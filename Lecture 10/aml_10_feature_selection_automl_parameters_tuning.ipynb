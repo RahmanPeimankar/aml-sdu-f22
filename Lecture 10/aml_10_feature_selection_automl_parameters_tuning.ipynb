{
 "cells": [
  {
   "cell_type": "markdown",
   "metadata": {
    "slideshow": {
     "slide_type": "slide"
    }
   },
   "source": [
    "<center><img src=\"img/aml-logo.png\" width=\"600\"/>\n",
    "\n",
    "***\n",
    "\n",
    "<center>Lecture 10</center>\n",
    "\n",
    "***\n",
    "\n",
    "<center>Feature Selection <br> + <br>Automate ML & Parameters Tuning</center>\n",
    "\n",
    "***\n",
    "\n",
    "<center>19 April 2022<center>\n",
    "<center>Rahman Peimankar<center>"
   ]
  },
  {
   "cell_type": "markdown",
   "metadata": {
    "slideshow": {
     "slide_type": "slide"
    }
   },
   "source": [
    "# Agenda\n",
    "* Feature Selection For Machine Learning Problems\n",
    "* Different Feature Selection Methods\n",
    "    1. Filter methods\n",
    "    2. Wrapper methods\n",
    "    3. Embedded methods\n",
    "* Self-study\n",
    "    1. Automating Machine Learning Workfows\n",
    "    2. Data Preparation and Modeling Pipeline\n",
    "    3. Improve Performance with Algorithms Parameters Tuning\n",
    "        * GridSearchCV\n",
    "        * RandomizedSearchCV\n"
   ]
  },
  {
   "cell_type": "markdown",
   "metadata": {
    "slideshow": {
     "slide_type": "slide"
    }
   },
   "source": [
    "# Recap of Last Week"
   ]
  },
  {
   "cell_type": "markdown",
   "metadata": {
    "slideshow": {
     "slide_type": "slide"
    }
   },
   "source": [
    "# Principal Component Analysis (PCA)"
   ]
  },
  {
   "cell_type": "markdown",
   "metadata": {
    "slideshow": {
     "slide_type": "-"
    }
   },
   "source": [
    "\n",
    "<div>\n",
    "<center>\n",
    "<table><tr>\n",
    "<td>\n",
    "    \n",
    "<img src=\"img/Qimage-9-lecture10.JPG\" width=\"300\"/>\n",
    "    \n",
    "</td>\n",
    "<td>\n",
    "    \n",
    "<img src=\"img/Qimage-28-lecture10.JPG\" width=\"420\"/>\n",
    "    \n",
    "</td>\n",
    "    \n",
    "<td>\n",
    "    \n",
    "<img src=\"img/Qimage-27-lecture10.JPG\" width=\"360\"/>\n",
    "    \n",
    "</td>\n",
    "</tr></table>\n",
    "\n",
    "$d_1^2 + d_2^2 + d_3^2 + d_4^2 + d_5^2 + d_6^2 =$ sum of squared distances = SS(distances)\n",
    "    \n",
    "* This 1 unit long vector, consisiting of **0.97** parts Gene 1 and **0.242** parts Gene 2, is called the **Singular Vector** or the **Eigenvector** for **PC1**.\n",
    "* Also, PCA calls the SS(distances) for the best fitted line the **Eigenvalue for PC1**! And the square root of the **Eigenvalue for PC1** is called the **Singular Value for PC1**.\n",
    "    \n",
    "SS(distances for PC1) = Eigenvalue for PC1\n",
    "\n",
    "$\\sqrt{\\text{Eigenvalue for PC1}}$ = Singular Value for PC1"
   ]
  },
  {
   "cell_type": "markdown",
   "metadata": {
    "slideshow": {
     "slide_type": "slide"
    }
   },
   "source": [
    "* To draw the final PCA plot, we simply rotate everything so that PC1 is horizontal!\n",
    "* Then we use the projected points to find where the samples go in the PCA plot.\n",
    "* For example, these projected points correspond the sample 6.\n",
    "\n",
    "<table><tr>\n",
    "<td>\n",
    "    \n",
    "<img src=\"img/Qimage-32-lecture10.JPG\" width=\"400\"/>\n",
    "    \n",
    "</td>\n",
    "\n",
    "\n",
    "<td>\n",
    "<img src=\"img/Qimage-34-lecture10.JPG\" width=\"350\"/>\n",
    "</td>\n",
    "</tr></table>\n",
    "    \n",
    "And samples 1 and 2 go here and so on.\n",
    "    \n",
    "<div>\n",
    "<center>\n",
    "<table><tr>\n",
    "<td>\n",
    "    \n",
    "<img src=\"img/Qimage-35-lecture10.JPG\" width=\"320\"/>\n",
    "    \n",
    "</td>\n",
    "<td>\n",
    "    \n",
    "<img src=\"img/Qimage-36-lecture10.JPG\" width=\"390\"/>\n",
    "    \n",
    "</td>\n",
    "<td>\n",
    "    \n",
    "<img src=\"img/Qimage-37-lecture10.JPG\" width=\"390\"/>\n",
    "    \n",
    "</td>\n",
    "</tr></table>\n",
    "    \n",
    "**This is how PCA is done using SVD.**"
   ]
  },
  {
   "cell_type": "markdown",
   "metadata": {
    "slideshow": {
     "slide_type": "slide"
    }
   },
   "source": [
    "We can convert them into variation around the origin (0,0) by dividing by the sample size minus 1 (i.e. *n-1*).\n",
    "\n",
    "$\\frac{\\text{Eigenvalue for PC1}}{n-1}$ = Variation for PC1\n",
    "\n",
    "$\\frac{\\text{Eigenvalue for PC2}}{n-1}$ = Variation for PC2\n",
    "\n",
    "<div>\n",
    "<center>\n",
    "<img src=\"img/Qimage-40-lecture10.JPG\" width=\"400\"/>\n",
    "</div>"
   ]
  },
  {
   "cell_type": "markdown",
   "metadata": {
    "slideshow": {
     "slide_type": "fragment"
    }
   },
   "source": [
    "**Note**: A **Scree Plot** is a graphical representation of the percentages of variation that each PC accounts for.\n",
    "\n",
    "<div>\n",
    "<center>\n",
    "<img src=\"img/Qimage-41-lecture10.JPG\" width=\"200\"/>\n",
    "</div>"
   ]
  },
  {
   "cell_type": "markdown",
   "metadata": {
    "slideshow": {
     "slide_type": "slide"
    }
   },
   "source": [
    "# K-Means Clustering"
   ]
  },
  {
   "cell_type": "markdown",
   "metadata": {
    "slideshow": {
     "slide_type": "-"
    }
   },
   "source": [
    "<div>\n",
    "<center>\n",
    "<table><tr>\n",
    "<td>\n",
    "    \n",
    "<img src=\"img/Qimage-79-lecture10.JPG\" width=\"800\"/>\n",
    "    \n",
    "</td>\n",
    "<td>\n",
    "    \n",
    "<img src=\"img/Qimage-80-lecture10.JPG\" width=\"800\"/>\n",
    "    \n",
    "</td>\n",
    "<td>\n",
    "    \n",
    "<img src=\"img/Qimage-81-lecture10.JPG\" width=\"800\"/>\n",
    "    \n",
    "</td>    \n",
    "</tr></table>"
   ]
  },
  {
   "cell_type": "markdown",
   "metadata": {
    "slideshow": {
     "slide_type": "-"
    }
   },
   "source": [
    "<div>\n",
    "<center>\n",
    "<img src=\"img/Qimage-82-lecture10.JPG\" width=\"600\"/>\n",
    "</div"
   ]
  },
  {
   "cell_type": "markdown",
   "metadata": {
    "slideshow": {
     "slide_type": "fragment"
    }
   },
   "source": [
    "<div>\n",
    "<center>\n",
    "<img src=\"img/Qimage-83-lecture10.JPG\" width=\"600\"/>\n",
    "</div"
   ]
  },
  {
   "cell_type": "markdown",
   "metadata": {
    "slideshow": {
     "slide_type": "slide"
    }
   },
   "source": [
    "If we plot the reduction in variation per value K, there is huge reduction in variation with K=3, but after that, the variation does not go down as quickly.\n",
    "\n",
    "<div>\n",
    "<center>\n",
    "<img src=\"img/Qimage-84-lecture10.JPG\" width=\"600\"/>\n",
    "</div"
   ]
  },
  {
   "cell_type": "markdown",
   "metadata": {
    "slideshow": {
     "slide_type": "slide"
    }
   },
   "source": [
    "# Outlier/Novelty Detection"
   ]
  },
  {
   "cell_type": "markdown",
   "metadata": {
    "slideshow": {
     "slide_type": "-"
    }
   },
   "source": [
    "<div>\n",
    "<center>\n",
    "<table><tr>\n",
    "<td>\n",
    "    \n",
    "<img src=\"img/Qimage-86-lecture10.JPG\" width=\"720\"/>\n",
    "    \n",
    "</td>\n",
    "<td>\n",
    "    \n",
    "<img src=\"img/Qimage-87-lecture10.JPG\" width=\"700\"/>\n",
    "    \n",
    "</td>\n",
    "</tr></table>"
   ]
  },
  {
   "cell_type": "markdown",
   "metadata": {
    "slideshow": {
     "slide_type": "fragment"
    }
   },
   "source": [
    "# Basic idea"
   ]
  },
  {
   "cell_type": "markdown",
   "metadata": {
    "slideshow": {
     "slide_type": "-"
    }
   },
   "source": [
    "* Model data distribution p(X)\n",
    "* Outlier: p(X)<ε"
   ]
  },
  {
   "cell_type": "markdown",
   "metadata": {
    "slideshow": {
     "slide_type": "slide"
    }
   },
   "source": [
    "# Feature Selection For Machine Learning Problems"
   ]
  },
  {
   "cell_type": "markdown",
   "metadata": {
    "slideshow": {
     "slide_type": "-"
    }
   },
   "source": [
    "* The data features that you use to train your machine learning models have a huge influence on the performance you can achieve.\n",
    "* Irrelevant or partially relevant features can negatively impact model performance.\n",
    "* You will discover automatic feature selection techniques that you can use to prepare your machine learning data in Python with scikit-learn."
   ]
  },
  {
   "cell_type": "markdown",
   "metadata": {
    "slideshow": {
     "slide_type": "slide"
    }
   },
   "source": [
    "## What Is Feature Selection?"
   ]
  },
  {
   "cell_type": "markdown",
   "metadata": {
    "slideshow": {
     "slide_type": "-"
    }
   },
   "source": [
    "* Feature selection is a process where you automatically select those features in your data that contribute most to the prediction variable or output in which you are interested.\n",
    "* Irrelevant features can decrease the accuracy of many models, especially linear algorithms such as linear and logistic regression."
   ]
  },
  {
   "cell_type": "markdown",
   "metadata": {
    "slideshow": {
     "slide_type": "slide"
    }
   },
   "source": [
    "## Benefits of Feature Selection"
   ]
  },
  {
   "cell_type": "markdown",
   "metadata": {
    "slideshow": {
     "slide_type": "-"
    }
   },
   "source": [
    "* **Reduces Overfitting**: Less redundant data means less opportunity to make decisions based on noise."
   ]
  },
  {
   "cell_type": "markdown",
   "metadata": {
    "slideshow": {
     "slide_type": "fragment"
    }
   },
   "source": [
    "* **Improves Accuracy**: Less misleading data means modeling accuracy improves."
   ]
  },
  {
   "cell_type": "markdown",
   "metadata": {
    "slideshow": {
     "slide_type": "fragment"
    }
   },
   "source": [
    "* **Reduces Training Time**: Less data means that algorithms train faster.\n",
    "\n",
    "Learn more about feature selection with scikit-learn:<br>\n",
    "https://scikit-learn.org/stable/modules/feature_selection.html"
   ]
  },
  {
   "cell_type": "markdown",
   "metadata": {
    "slideshow": {
     "slide_type": "slide"
    }
   },
   "source": [
    "## Different Feature Selection Methods"
   ]
  },
  {
   "cell_type": "markdown",
   "metadata": {
    "slideshow": {
     "slide_type": "-"
    }
   },
   "source": [
    "1. Filter methods\n",
    "2. Wrapper methods\n",
    "3. Embedded methods"
   ]
  },
  {
   "cell_type": "markdown",
   "metadata": {
    "slideshow": {
     "slide_type": "slide"
    }
   },
   "source": [
    "# 1. Filter Methods"
   ]
  },
  {
   "cell_type": "markdown",
   "metadata": {
    "slideshow": {
     "slide_type": "-"
    }
   },
   "source": [
    "* Filter methods pick up the intrinsic properties of the features measured via univariate statistics\n",
    "* These methods are faster and less computationally expensive than wrapper methods\n",
    "* When dealing with high-dimensional data, it is computationally cheaper to use filter methods"
   ]
  },
  {
   "cell_type": "markdown",
   "metadata": {
    "slideshow": {
     "slide_type": "slide"
    }
   },
   "source": [
    "# 1.1 Correlation Coefficient"
   ]
  },
  {
   "cell_type": "markdown",
   "metadata": {
    "slideshow": {
     "slide_type": "-"
    }
   },
   "source": [
    "* Correlation is a measure of the linear relationship of 2 or more variables.\n",
    "* The logic behind using correlation for feature selection is that the good variables are highly correlated with the target.\n",
    "* Furthermore, variables should be correlated with the target but should be uncorrelated among themselves.\n",
    "\n",
    "#### Important:\n",
    "If two features are correlated, the model only really needs one of them, as the second one does not add additional information.\n",
    "\n",
    "##### One of the widely used correlation methods is called Pearson Correlation. Let's implement it in."
   ]
  },
  {
   "cell_type": "code",
   "execution_count": 1,
   "metadata": {
    "slideshow": {
     "slide_type": "slide"
    }
   },
   "outputs": [],
   "source": [
    "from pandas import read_csv\n",
    "from numpy import set_printoptions\n",
    "filename = 'diabetes.csv'\n",
    "df = read_csv(filename)\n",
    "array = df.values\n",
    "X = array[:,0:8]\n",
    "y = array[:,8]"
   ]
  },
  {
   "cell_type": "code",
   "execution_count": 2,
   "metadata": {
    "slideshow": {
     "slide_type": "slide"
    }
   },
   "outputs": [
    {
     "data": {
      "text/plain": [
       "<matplotlib.axes._subplots.AxesSubplot at 0x1c70cf68970>"
      ]
     },
     "execution_count": 2,
     "metadata": {},
     "output_type": "execute_result"
    },
    {
     "data": {
      "image/png": "[encoded data removed]",
      "text/plain": [
       "<Figure size 720x432 with 2 Axes>"
      ]
     },
     "metadata": {
      "needs_background": "light"
     },
     "output_type": "display_data"
    }
   ],
   "source": [
    "import seaborn as sns\n",
    "import matplotlib.pyplot as plt\n",
    "%matplotlib inline\n",
    "\n",
    "correlation = df.corr()\n",
    "\n",
    "plt.figure(figsize=(10,6))\n",
    "sns.heatmap(correlation, annot=True)"
   ]
  },
  {
   "cell_type": "markdown",
   "metadata": {
    "slideshow": {
     "slide_type": "-"
    }
   },
   "source": [
    "* We need to set an absolute value, say 0.5 as the threshold for selecting the variables.\n",
    "* If we find that the predictor variables are correlated among themselves, we can drop the variable which has a lower correlation coefficient value with the target variable."
   ]
  },
  {
   "cell_type": "markdown",
   "metadata": {
    "slideshow": {
     "slide_type": "slide"
    }
   },
   "source": [
    "# 1.2 Chi-square Test"
   ]
  },
  {
   "cell_type": "markdown",
   "metadata": {
    "slideshow": {
     "slide_type": "-"
    }
   },
   "source": [
    "* The Chi-square test is used for categorical features in a dataset.\n",
    "* We calculate Chi-square between each feature and the target and select the desired number of features with the best Chi-square scores. "
   ]
  },
  {
   "cell_type": "markdown",
   "metadata": {
    "slideshow": {
     "slide_type": "slide"
    }
   },
   "source": [
    "### phik Library"
   ]
  },
  {
   "cell_type": "markdown",
   "metadata": {
    "slideshow": {
     "slide_type": "-"
    }
   },
   "source": [
    "Can be found here: https://phik.readthedocs.io/en/latest/\n",
    "\n",
    "Install the library:\n",
    "* !pip install phik\n",
    "* conda install -c conda-forge phik\n"
   ]
  },
  {
   "cell_type": "code",
   "execution_count": 3,
   "metadata": {
    "slideshow": {
     "slide_type": "fragment"
    }
   },
   "outputs": [
    {
     "data": {
      "text/html": [
       "<div>\n",
       "<style scoped>\n",
       "    .dataframe tbody tr th:only-of-type {\n",
       "        vertical-align: middle;\n",
       "    }\n",
       "\n",
       "    .dataframe tbody tr th {\n",
       "        vertical-align: top;\n",
       "    }\n",
       "\n",
       "    .dataframe thead th {\n",
       "        text-align: right;\n",
       "    }\n",
       "</style>\n",
       "<table border=\"1\" class=\"dataframe\">\n",
       "  <thead>\n",
       "    <tr style=\"text-align: right;\">\n",
       "      <th></th>\n",
       "      <th>class</th>\n",
       "      <th>cap-shape</th>\n",
       "      <th>cap-surface</th>\n",
       "      <th>cap-color</th>\n",
       "      <th>bruises</th>\n",
       "      <th>odor</th>\n",
       "      <th>gill-attachment</th>\n",
       "      <th>gill-spacing</th>\n",
       "      <th>gill-size</th>\n",
       "      <th>gill-color</th>\n",
       "      <th>...</th>\n",
       "      <th>stalk-surface-below-ring</th>\n",
       "      <th>stalk-color-above-ring</th>\n",
       "      <th>stalk-color-below-ring</th>\n",
       "      <th>veil-type</th>\n",
       "      <th>veil-color</th>\n",
       "      <th>ring-number</th>\n",
       "      <th>ring-type</th>\n",
       "      <th>spore-print-color</th>\n",
       "      <th>population</th>\n",
       "      <th>habitat</th>\n",
       "    </tr>\n",
       "  </thead>\n",
       "  <tbody>\n",
       "    <tr>\n",
       "      <th>0</th>\n",
       "      <td>p</td>\n",
       "      <td>x</td>\n",
       "      <td>s</td>\n",
       "      <td>n</td>\n",
       "      <td>t</td>\n",
       "      <td>p</td>\n",
       "      <td>f</td>\n",
       "      <td>c</td>\n",
       "      <td>n</td>\n",
       "      <td>k</td>\n",
       "      <td>...</td>\n",
       "      <td>s</td>\n",
       "      <td>w</td>\n",
       "      <td>w</td>\n",
       "      <td>p</td>\n",
       "      <td>w</td>\n",
       "      <td>o</td>\n",
       "      <td>p</td>\n",
       "      <td>k</td>\n",
       "      <td>s</td>\n",
       "      <td>u</td>\n",
       "    </tr>\n",
       "    <tr>\n",
       "      <th>1</th>\n",
       "      <td>e</td>\n",
       "      <td>x</td>\n",
       "      <td>s</td>\n",
       "      <td>y</td>\n",
       "      <td>t</td>\n",
       "      <td>a</td>\n",
       "      <td>f</td>\n",
       "      <td>c</td>\n",
       "      <td>b</td>\n",
       "      <td>k</td>\n",
       "      <td>...</td>\n",
       "      <td>s</td>\n",
       "      <td>w</td>\n",
       "      <td>w</td>\n",
       "      <td>p</td>\n",
       "      <td>w</td>\n",
       "      <td>o</td>\n",
       "      <td>p</td>\n",
       "      <td>n</td>\n",
       "      <td>n</td>\n",
       "      <td>g</td>\n",
       "    </tr>\n",
       "    <tr>\n",
       "      <th>2</th>\n",
       "      <td>e</td>\n",
       "      <td>b</td>\n",
       "      <td>s</td>\n",
       "      <td>w</td>\n",
       "      <td>t</td>\n",
       "      <td>l</td>\n",
       "      <td>f</td>\n",
       "      <td>c</td>\n",
       "      <td>b</td>\n",
       "      <td>n</td>\n",
       "      <td>...</td>\n",
       "      <td>s</td>\n",
       "      <td>w</td>\n",
       "      <td>w</td>\n",
       "      <td>p</td>\n",
       "      <td>w</td>\n",
       "      <td>o</td>\n",
       "      <td>p</td>\n",
       "      <td>n</td>\n",
       "      <td>n</td>\n",
       "      <td>m</td>\n",
       "    </tr>\n",
       "    <tr>\n",
       "      <th>3</th>\n",
       "      <td>p</td>\n",
       "      <td>x</td>\n",
       "      <td>y</td>\n",
       "      <td>w</td>\n",
       "      <td>t</td>\n",
       "      <td>p</td>\n",
       "      <td>f</td>\n",
       "      <td>c</td>\n",
       "      <td>n</td>\n",
       "      <td>n</td>\n",
       "      <td>...</td>\n",
       "      <td>s</td>\n",
       "      <td>w</td>\n",
       "      <td>w</td>\n",
       "      <td>p</td>\n",
       "      <td>w</td>\n",
       "      <td>o</td>\n",
       "      <td>p</td>\n",
       "      <td>k</td>\n",
       "      <td>s</td>\n",
       "      <td>u</td>\n",
       "    </tr>\n",
       "    <tr>\n",
       "      <th>4</th>\n",
       "      <td>e</td>\n",
       "      <td>x</td>\n",
       "      <td>s</td>\n",
       "      <td>g</td>\n",
       "      <td>f</td>\n",
       "      <td>n</td>\n",
       "      <td>f</td>\n",
       "      <td>w</td>\n",
       "      <td>b</td>\n",
       "      <td>k</td>\n",
       "      <td>...</td>\n",
       "      <td>s</td>\n",
       "      <td>w</td>\n",
       "      <td>w</td>\n",
       "      <td>p</td>\n",
       "      <td>w</td>\n",
       "      <td>o</td>\n",
       "      <td>e</td>\n",
       "      <td>n</td>\n",
       "      <td>a</td>\n",
       "      <td>g</td>\n",
       "    </tr>\n",
       "  </tbody>\n",
       "</table>\n",
       "<p>5 rows × 23 columns</p>\n",
       "</div>"
      ],
      "text/plain": [
       "  class cap-shape cap-surface cap-color bruises odor gill-attachment  \\\n",
       "0     p         x           s         n       t    p               f   \n",
       "1     e         x           s         y       t    a               f   \n",
       "2     e         b           s         w       t    l               f   \n",
       "3     p         x           y         w       t    p               f   \n",
       "4     e         x           s         g       f    n               f   \n",
       "\n",
       "  gill-spacing gill-size gill-color  ... stalk-surface-below-ring  \\\n",
       "0            c         n          k  ...                        s   \n",
       "1            c         b          k  ...                        s   \n",
       "2            c         b          n  ...                        s   \n",
       "3            c         n          n  ...                        s   \n",
       "4            w         b          k  ...                        s   \n",
       "\n",
       "  stalk-color-above-ring stalk-color-below-ring veil-type veil-color  \\\n",
       "0                      w                      w         p          w   \n",
       "1                      w                      w         p          w   \n",
       "2                      w                      w         p          w   \n",
       "3                      w                      w         p          w   \n",
       "4                      w                      w         p          w   \n",
       "\n",
       "  ring-number ring-type spore-print-color population habitat  \n",
       "0           o         p                 k          s       u  \n",
       "1           o         p                 n          n       g  \n",
       "2           o         p                 n          n       m  \n",
       "3           o         p                 k          s       u  \n",
       "4           o         e                 n          a       g  \n",
       "\n",
       "[5 rows x 23 columns]"
      ]
     },
     "execution_count": 3,
     "metadata": {},
     "output_type": "execute_result"
    }
   ],
   "source": [
    "import pandas as pd\n",
    "df = pd.read_csv('mushrooms.csv')\n",
    "# df = pd.read_csv('abalone_data.txt', header=None)\n",
    "array = df.values\n",
    "df.head(5)"
   ]
  },
  {
   "cell_type": "code",
   "execution_count": 4,
   "metadata": {
    "slideshow": {
     "slide_type": "slide"
    }
   },
   "outputs": [
    {
     "name": "stderr",
     "output_type": "stream",
     "text": [
      "C:\\Users\\abpe\\Anaconda3\\lib\\site-packages\\phik\\data_quality.py:78: UserWarning: Not enough unique value for variable veil-type for analysis 1. Dropping this column\n",
      "  warnings.warn(\n"
     ]
    }
   ],
   "source": [
    "import phik\n",
    "cor = df.phik_matrix()"
   ]
  },
  {
   "cell_type": "code",
   "execution_count": 5,
   "metadata": {
    "slideshow": {
     "slide_type": "fragment"
    }
   },
   "outputs": [
    {
     "data": {
      "text/plain": [
       "<matplotlib.axes._subplots.AxesSubplot at 0x1c7137ce2b0>"
      ]
     },
     "execution_count": 5,
     "metadata": {},
     "output_type": "execute_result"
    },
    {
     "data": {
      "image/png": "[encoded data removed]",
      "text/plain": [
       "<Figure size 1296x864 with 2 Axes>"
      ]
     },
     "metadata": {
      "needs_background": "light"
     },
     "output_type": "display_data"
    }
   ],
   "source": [
    "plt.figure(figsize=(18,12))\n",
    "sns.heatmap(cor.values, annot=True)"
   ]
  },
  {
   "cell_type": "markdown",
   "metadata": {
    "slideshow": {
     "slide_type": "slide"
    }
   },
   "source": [
    "# 1.3 Variance Threshold"
   ]
  },
  {
   "cell_type": "markdown",
   "metadata": {
    "slideshow": {
     "slide_type": "-"
    }
   },
   "source": [
    "* The variance threshold is a simple baseline approach for feature selection.\n",
    "* It removes all features that their variances do not meet a threshold.\n",
    "* For example, it removes all zero-variance features --> features that have the same value in all samples\n",
    "* We assume that features with a higher variance may contain more useful information."
   ]
  },
  {
   "cell_type": "code",
   "execution_count": 25,
   "metadata": {
    "slideshow": {
     "slide_type": "fragment"
    }
   },
   "outputs": [
    {
     "data": {
      "text/plain": [
       "array([ True,  True,  True,  True, False, False, False,  True])"
      ]
     },
     "execution_count": 25,
     "metadata": {},
     "output_type": "execute_result"
    }
   ],
   "source": [
    "from sklearn.feature_selection import VarianceThreshold\n",
    "from sklearn.preprocessing import MinMaxScaler\n",
    "\n",
    "scaler = MinMaxScaler()\n",
    "X_trans = scaler.fit_transform(X)\n",
    "\n",
    "var_thresh = VarianceThreshold(threshold=0.02)\n",
    "var_thresh.fit(X_trans)\n",
    "var_thresh.get_support()"
   ]
  },
  {
   "cell_type": "markdown",
   "metadata": {
    "slideshow": {
     "slide_type": "slide"
    }
   },
   "source": [
    "# 2. Wrapper Methods "
   ]
  },
  {
   "cell_type": "markdown",
   "metadata": {
    "slideshow": {
     "slide_type": "-"
    }
   },
   "source": [
    "* Wrappers require some method to search the space of all possible subsets of features.\n",
    "* It assesses the quality of the selected features by learning and evaluating a classifier with that feature subset.\n",
    "* It follows a greedy search approach by evaluating all the possible combinations of features against the evaluation criterion.\n",
    "\n",
    "**Note**: The wrapper methods usually result in a better predictive accuracy than filter methods."
   ]
  },
  {
   "cell_type": "markdown",
   "metadata": {
    "slideshow": {
     "slide_type": "slide"
    }
   },
   "source": [
    "# 2.1 Forward Feature Selection"
   ]
  },
  {
   "cell_type": "markdown",
   "metadata": {
    "slideshow": {
     "slide_type": "-"
    }
   },
   "source": [
    "* This is an iterative method wherein we start with the best performing variable against the target.\n",
    "* Next, we select another variable that gives the best performance in combination with the first selected variable.\n",
    "* This process continues until the preset criterion is achieved."
   ]
  },
  {
   "cell_type": "code",
   "execution_count": 26,
   "metadata": {
    "slideshow": {
     "slide_type": "slide"
    }
   },
   "outputs": [
    {
     "name": "stdout",
     "output_type": "stream",
     "text": [
      "All features: 0.78125\n",
      "With feature selection: 0.7760416666666666\n",
      "selected features: [0, 1, 2, 4, 5, 7]\n"
     ]
    },
    {
     "data": {
      "text/html": [
       "<div>\n",
       "<style scoped>\n",
       "    .dataframe tbody tr th:only-of-type {\n",
       "        vertical-align: middle;\n",
       "    }\n",
       "\n",
       "    .dataframe tbody tr th {\n",
       "        vertical-align: top;\n",
       "    }\n",
       "\n",
       "    .dataframe thead th {\n",
       "        text-align: right;\n",
       "    }\n",
       "</style>\n",
       "<table border=\"1\" class=\"dataframe\">\n",
       "  <thead>\n",
       "    <tr style=\"text-align: right;\">\n",
       "      <th></th>\n",
       "      <th>feature_idx</th>\n",
       "      <th>cv_scores</th>\n",
       "      <th>avg_score</th>\n",
       "      <th>feature_names</th>\n",
       "      <th>ci_bound</th>\n",
       "      <th>std_dev</th>\n",
       "      <th>std_err</th>\n",
       "    </tr>\n",
       "  </thead>\n",
       "  <tbody>\n",
       "    <tr>\n",
       "      <th>1</th>\n",
       "      <td>(1,)</td>\n",
       "      <td>[0.7077922077922078, 0.7077922077922078, 0.766...</td>\n",
       "      <td>0.747475</td>\n",
       "      <td>(1,)</td>\n",
       "      <td>0.04233</td>\n",
       "      <td>0.0329342</td>\n",
       "      <td>0.0164671</td>\n",
       "    </tr>\n",
       "    <tr>\n",
       "      <th>2</th>\n",
       "      <td>(1, 5)</td>\n",
       "      <td>[0.7727272727272727, 0.7337662337662337, 0.766...</td>\n",
       "      <td>0.759121</td>\n",
       "      <td>(1, 5)</td>\n",
       "      <td>0.0252907</td>\n",
       "      <td>0.019677</td>\n",
       "      <td>0.00983852</td>\n",
       "    </tr>\n",
       "    <tr>\n",
       "      <th>3</th>\n",
       "      <td>(1, 5, 7)</td>\n",
       "      <td>[0.7727272727272727, 0.7337662337662337, 0.740...</td>\n",
       "      <td>0.768305</td>\n",
       "      <td>(1, 5, 7)</td>\n",
       "      <td>0.0353201</td>\n",
       "      <td>0.0274803</td>\n",
       "      <td>0.0137401</td>\n",
       "    </tr>\n",
       "    <tr>\n",
       "      <th>4</th>\n",
       "      <td>(1, 4, 5, 7)</td>\n",
       "      <td>[0.7662337662337663, 0.7337662337662337, 0.753...</td>\n",
       "      <td>0.768296</td>\n",
       "      <td>(1, 4, 5, 7)</td>\n",
       "      <td>0.0312132</td>\n",
       "      <td>0.0242849</td>\n",
       "      <td>0.0121425</td>\n",
       "    </tr>\n",
       "    <tr>\n",
       "      <th>5</th>\n",
       "      <td>(0, 1, 4, 5, 7)</td>\n",
       "      <td>[0.7532467532467533, 0.7402597402597403, 0.785...</td>\n",
       "      <td>0.770877</td>\n",
       "      <td>(0, 1, 4, 5, 7)</td>\n",
       "      <td>0.0260114</td>\n",
       "      <td>0.0202378</td>\n",
       "      <td>0.0101189</td>\n",
       "    </tr>\n",
       "    <tr>\n",
       "      <th>6</th>\n",
       "      <td>(0, 1, 2, 4, 5, 7)</td>\n",
       "      <td>[0.7597402597402597, 0.7597402597402597, 0.766...</td>\n",
       "      <td>0.77479</td>\n",
       "      <td>(0, 1, 2, 4, 5, 7)</td>\n",
       "      <td>0.0220048</td>\n",
       "      <td>0.0171204</td>\n",
       "      <td>0.00856022</td>\n",
       "    </tr>\n",
       "    <tr>\n",
       "      <th>7</th>\n",
       "      <td>(0, 1, 2, 4, 5, 6, 7)</td>\n",
       "      <td>[0.7727272727272727, 0.7597402597402597, 0.753...</td>\n",
       "      <td>0.77479</td>\n",
       "      <td>(0, 1, 2, 4, 5, 6, 7)</td>\n",
       "      <td>0.0255509</td>\n",
       "      <td>0.0198794</td>\n",
       "      <td>0.00993972</td>\n",
       "    </tr>\n",
       "    <tr>\n",
       "      <th>8</th>\n",
       "      <td>(0, 1, 2, 3, 4, 5, 6, 7)</td>\n",
       "      <td>[0.7727272727272727, 0.7467532467532467, 0.753...</td>\n",
       "      <td>0.772193</td>\n",
       "      <td>(0, 1, 2, 3, 4, 5, 6, 7)</td>\n",
       "      <td>0.0287503</td>\n",
       "      <td>0.0223687</td>\n",
       "      <td>0.0111843</td>\n",
       "    </tr>\n",
       "  </tbody>\n",
       "</table>\n",
       "</div>"
      ],
      "text/plain": [
       "                feature_idx  \\\n",
       "1                      (1,)   \n",
       "2                    (1, 5)   \n",
       "3                 (1, 5, 7)   \n",
       "4              (1, 4, 5, 7)   \n",
       "5           (0, 1, 4, 5, 7)   \n",
       "6        (0, 1, 2, 4, 5, 7)   \n",
       "7     (0, 1, 2, 4, 5, 6, 7)   \n",
       "8  (0, 1, 2, 3, 4, 5, 6, 7)   \n",
       "\n",
       "                                           cv_scores avg_score  \\\n",
       "1  [0.7077922077922078, 0.7077922077922078, 0.766...  0.747475   \n",
       "2  [0.7727272727272727, 0.7337662337662337, 0.766...  0.759121   \n",
       "3  [0.7727272727272727, 0.7337662337662337, 0.740...  0.768305   \n",
       "4  [0.7662337662337663, 0.7337662337662337, 0.753...  0.768296   \n",
       "5  [0.7532467532467533, 0.7402597402597403, 0.785...  0.770877   \n",
       "6  [0.7597402597402597, 0.7597402597402597, 0.766...   0.77479   \n",
       "7  [0.7727272727272727, 0.7597402597402597, 0.753...   0.77479   \n",
       "8  [0.7727272727272727, 0.7467532467532467, 0.753...  0.772193   \n",
       "\n",
       "              feature_names   ci_bound    std_dev     std_err  \n",
       "1                      (1,)    0.04233  0.0329342   0.0164671  \n",
       "2                    (1, 5)  0.0252907   0.019677  0.00983852  \n",
       "3                 (1, 5, 7)  0.0353201  0.0274803   0.0137401  \n",
       "4              (1, 4, 5, 7)  0.0312132  0.0242849   0.0121425  \n",
       "5           (0, 1, 4, 5, 7)  0.0260114  0.0202378   0.0101189  \n",
       "6        (0, 1, 2, 4, 5, 7)  0.0220048  0.0171204  0.00856022  \n",
       "7     (0, 1, 2, 4, 5, 6, 7)  0.0255509  0.0198794  0.00993972  \n",
       "8  (0, 1, 2, 3, 4, 5, 6, 7)  0.0287503  0.0223687   0.0111843  "
      ]
     },
     "execution_count": 26,
     "metadata": {},
     "output_type": "execute_result"
    }
   ],
   "source": [
    "# !pip install mlxtend \n",
    "from mlxtend.feature_selection import SequentialFeatureSelector\n",
    "from sklearn.linear_model import LogisticRegression\n",
    "\n",
    "lr = LogisticRegression(solver='lbfgs', random_state=42, max_iter=500, n_jobs=-1)\n",
    "lr.fit(X, y)\n",
    "print('All features: {}'.format(lr.score(X, y)))\n",
    "\n",
    "ffs = SequentialFeatureSelector(lr, k_features='best', cv=5, forward=True, n_jobs=-1)\n",
    "ffs.fit(X, y)\n",
    "features = list(ffs.k_feature_names_)\n",
    "features = list(map(int, features))\n",
    "lr.fit(X[:, features], y)\n",
    "print('With feature selection: {}'.format(lr.score(X[:, features], y)))\n",
    "print('selected features: {}'.format(features))\n",
    "pd.DataFrame.from_dict(ffs.get_metric_dict()).T"
   ]
  },
  {
   "cell_type": "markdown",
   "metadata": {
    "slideshow": {
     "slide_type": "slide"
    }
   },
   "source": [
    "# 2.2 Backward Feature Elimination"
   ]
  },
  {
   "cell_type": "markdown",
   "metadata": {
    "slideshow": {
     "slide_type": "-"
    }
   },
   "source": [
    "* This method works exactly opposite to the Forward Feature Selection method. \n",
    "* We start with all the features available and build a model.\n",
    "* Next, we remove the variable from the model which gives the best performance.\n",
    "* This process is continued until the preset criterion is achieved."
   ]
  },
  {
   "cell_type": "code",
   "execution_count": 27,
   "metadata": {
    "slideshow": {
     "slide_type": "slide"
    }
   },
   "outputs": [
    {
     "name": "stdout",
     "output_type": "stream",
     "text": [
      "All features: 0.78125\n",
      "With feature selection: 0.78125\n",
      "selected features: [0, 1, 2, 4, 5, 6, 7]\n"
     ]
    },
    {
     "data": {
      "text/html": [
       "<div>\n",
       "<style scoped>\n",
       "    .dataframe tbody tr th:only-of-type {\n",
       "        vertical-align: middle;\n",
       "    }\n",
       "\n",
       "    .dataframe tbody tr th {\n",
       "        vertical-align: top;\n",
       "    }\n",
       "\n",
       "    .dataframe thead th {\n",
       "        text-align: right;\n",
       "    }\n",
       "</style>\n",
       "<table border=\"1\" class=\"dataframe\">\n",
       "  <thead>\n",
       "    <tr style=\"text-align: right;\">\n",
       "      <th></th>\n",
       "      <th>feature_idx</th>\n",
       "      <th>cv_scores</th>\n",
       "      <th>avg_score</th>\n",
       "      <th>feature_names</th>\n",
       "      <th>ci_bound</th>\n",
       "      <th>std_dev</th>\n",
       "      <th>std_err</th>\n",
       "    </tr>\n",
       "  </thead>\n",
       "  <tbody>\n",
       "    <tr>\n",
       "      <th>8</th>\n",
       "      <td>(0, 1, 2, 3, 4, 5, 6, 7)</td>\n",
       "      <td>[0.7727272727272727, 0.7467532467532467, 0.753...</td>\n",
       "      <td>0.772193</td>\n",
       "      <td>(0, 1, 2, 3, 4, 5, 6, 7)</td>\n",
       "      <td>0.0287503</td>\n",
       "      <td>0.0223687</td>\n",
       "      <td>0.0111843</td>\n",
       "    </tr>\n",
       "    <tr>\n",
       "      <th>7</th>\n",
       "      <td>(0, 1, 2, 4, 5, 6, 7)</td>\n",
       "      <td>[0.7727272727272727, 0.7597402597402597, 0.753...</td>\n",
       "      <td>0.77479</td>\n",
       "      <td>(0, 1, 2, 4, 5, 6, 7)</td>\n",
       "      <td>0.0255509</td>\n",
       "      <td>0.0198794</td>\n",
       "      <td>0.00993972</td>\n",
       "    </tr>\n",
       "    <tr>\n",
       "      <th>6</th>\n",
       "      <td>(0, 1, 2, 4, 5, 7)</td>\n",
       "      <td>[0.7597402597402597, 0.7597402597402597, 0.766...</td>\n",
       "      <td>0.77479</td>\n",
       "      <td>(0, 1, 2, 4, 5, 7)</td>\n",
       "      <td>0.0220048</td>\n",
       "      <td>0.0171204</td>\n",
       "      <td>0.00856022</td>\n",
       "    </tr>\n",
       "    <tr>\n",
       "      <th>5</th>\n",
       "      <td>(0, 1, 2, 5, 7)</td>\n",
       "      <td>[0.7662337662337663, 0.7597402597402597, 0.759...</td>\n",
       "      <td>0.772176</td>\n",
       "      <td>(0, 1, 2, 5, 7)</td>\n",
       "      <td>0.0182811</td>\n",
       "      <td>0.0142233</td>\n",
       "      <td>0.00711165</td>\n",
       "    </tr>\n",
       "    <tr>\n",
       "      <th>4</th>\n",
       "      <td>(1, 2, 5, 7)</td>\n",
       "      <td>[0.7727272727272727, 0.7597402597402597, 0.740...</td>\n",
       "      <td>0.768271</td>\n",
       "      <td>(1, 2, 5, 7)</td>\n",
       "      <td>0.0239337</td>\n",
       "      <td>0.0186212</td>\n",
       "      <td>0.00931061</td>\n",
       "    </tr>\n",
       "    <tr>\n",
       "      <th>3</th>\n",
       "      <td>(1, 5, 7)</td>\n",
       "      <td>[0.7727272727272727, 0.7337662337662337, 0.740...</td>\n",
       "      <td>0.768305</td>\n",
       "      <td>(1, 5, 7)</td>\n",
       "      <td>0.0353201</td>\n",
       "      <td>0.0274803</td>\n",
       "      <td>0.0137401</td>\n",
       "    </tr>\n",
       "    <tr>\n",
       "      <th>2</th>\n",
       "      <td>(1, 5)</td>\n",
       "      <td>[0.7727272727272727, 0.7337662337662337, 0.766...</td>\n",
       "      <td>0.759121</td>\n",
       "      <td>(1, 5)</td>\n",
       "      <td>0.0252907</td>\n",
       "      <td>0.019677</td>\n",
       "      <td>0.00983852</td>\n",
       "    </tr>\n",
       "    <tr>\n",
       "      <th>1</th>\n",
       "      <td>(1,)</td>\n",
       "      <td>[0.7077922077922078, 0.7077922077922078, 0.766...</td>\n",
       "      <td>0.747475</td>\n",
       "      <td>(1,)</td>\n",
       "      <td>0.04233</td>\n",
       "      <td>0.0329342</td>\n",
       "      <td>0.0164671</td>\n",
       "    </tr>\n",
       "  </tbody>\n",
       "</table>\n",
       "</div>"
      ],
      "text/plain": [
       "                feature_idx  \\\n",
       "8  (0, 1, 2, 3, 4, 5, 6, 7)   \n",
       "7     (0, 1, 2, 4, 5, 6, 7)   \n",
       "6        (0, 1, 2, 4, 5, 7)   \n",
       "5           (0, 1, 2, 5, 7)   \n",
       "4              (1, 2, 5, 7)   \n",
       "3                 (1, 5, 7)   \n",
       "2                    (1, 5)   \n",
       "1                      (1,)   \n",
       "\n",
       "                                           cv_scores avg_score  \\\n",
       "8  [0.7727272727272727, 0.7467532467532467, 0.753...  0.772193   \n",
       "7  [0.7727272727272727, 0.7597402597402597, 0.753...   0.77479   \n",
       "6  [0.7597402597402597, 0.7597402597402597, 0.766...   0.77479   \n",
       "5  [0.7662337662337663, 0.7597402597402597, 0.759...  0.772176   \n",
       "4  [0.7727272727272727, 0.7597402597402597, 0.740...  0.768271   \n",
       "3  [0.7727272727272727, 0.7337662337662337, 0.740...  0.768305   \n",
       "2  [0.7727272727272727, 0.7337662337662337, 0.766...  0.759121   \n",
       "1  [0.7077922077922078, 0.7077922077922078, 0.766...  0.747475   \n",
       "\n",
       "              feature_names   ci_bound    std_dev     std_err  \n",
       "8  (0, 1, 2, 3, 4, 5, 6, 7)  0.0287503  0.0223687   0.0111843  \n",
       "7     (0, 1, 2, 4, 5, 6, 7)  0.0255509  0.0198794  0.00993972  \n",
       "6        (0, 1, 2, 4, 5, 7)  0.0220048  0.0171204  0.00856022  \n",
       "5           (0, 1, 2, 5, 7)  0.0182811  0.0142233  0.00711165  \n",
       "4              (1, 2, 5, 7)  0.0239337  0.0186212  0.00931061  \n",
       "3                 (1, 5, 7)  0.0353201  0.0274803   0.0137401  \n",
       "2                    (1, 5)  0.0252907   0.019677  0.00983852  \n",
       "1                      (1,)    0.04233  0.0329342   0.0164671  "
      ]
     },
     "execution_count": 27,
     "metadata": {},
     "output_type": "execute_result"
    }
   ],
   "source": [
    "from mlxtend.feature_selection import SequentialFeatureSelector\n",
    "\n",
    "lr.fit(X, y)\n",
    "lr.fit(X, y)\n",
    "print('All features: {}'.format(lr.score(X, y)))\n",
    "\n",
    "bfs = SequentialFeatureSelector(lr, k_features='best', cv=5, forward=False, n_jobs=-1)\n",
    "bfs.fit(X, y)\n",
    "features = list(bfs.k_feature_names_)\n",
    "features = list(map(int, features))\n",
    "lr.fit(X[:, features], y)\n",
    "print('With feature selection: {}'.format(lr.score(X[:, features], y)))\n",
    "print('selected features: {}'.format(features))\n",
    "pd.DataFrame.from_dict(bfs.get_metric_dict()).T"
   ]
  },
  {
   "cell_type": "markdown",
   "metadata": {
    "slideshow": {
     "slide_type": "slide"
    }
   },
   "source": [
    "# 2.3 Exhaustive Feature Selection"
   ]
  },
  {
   "cell_type": "markdown",
   "metadata": {
    "slideshow": {
     "slide_type": "-"
    }
   },
   "source": [
    "* This is one of the most robust feature selection methods.\n",
    "* It tries every possible combination of the variables."
   ]
  },
  {
   "cell_type": "code",
   "execution_count": 29,
   "metadata": {
    "slideshow": {
     "slide_type": "slide"
    }
   },
   "outputs": [
    {
     "name": "stderr",
     "output_type": "stream",
     "text": [
      "Features: 163/163"
     ]
    },
    {
     "name": "stdout",
     "output_type": "stream",
     "text": [
      "Selected features: [0, 1, 2, 4, 5, 6, 7]\n"
     ]
    },
    {
     "data": {
      "text/html": [
       "<div>\n",
       "<style scoped>\n",
       "    .dataframe tbody tr th:only-of-type {\n",
       "        vertical-align: middle;\n",
       "    }\n",
       "\n",
       "    .dataframe tbody tr th {\n",
       "        vertical-align: top;\n",
       "    }\n",
       "\n",
       "    .dataframe thead th {\n",
       "        text-align: right;\n",
       "    }\n",
       "</style>\n",
       "<table border=\"1\" class=\"dataframe\">\n",
       "  <thead>\n",
       "    <tr style=\"text-align: right;\">\n",
       "      <th></th>\n",
       "      <th>feature_idx</th>\n",
       "      <th>cv_scores</th>\n",
       "      <th>avg_score</th>\n",
       "      <th>feature_names</th>\n",
       "      <th>ci_bound</th>\n",
       "      <th>std_dev</th>\n",
       "      <th>std_err</th>\n",
       "    </tr>\n",
       "  </thead>\n",
       "  <tbody>\n",
       "    <tr>\n",
       "      <th>0</th>\n",
       "      <td>(0, 1, 2, 3)</td>\n",
       "      <td>[0.7724477611940298, 0.8392835820895523]</td>\n",
       "      <td>0.805866</td>\n",
       "      <td>(0, 1, 2, 3)</td>\n",
       "      <td>0.143786</td>\n",
       "      <td>0.0334179</td>\n",
       "      <td>0.0334179</td>\n",
       "    </tr>\n",
       "    <tr>\n",
       "      <th>1</th>\n",
       "      <td>(0, 1, 2, 4)</td>\n",
       "      <td>[0.7705671641791045, 0.8398805970149255]</td>\n",
       "      <td>0.805224</td>\n",
       "      <td>(0, 1, 2, 4)</td>\n",
       "      <td>0.149116</td>\n",
       "      <td>0.0346567</td>\n",
       "      <td>0.0346567</td>\n",
       "    </tr>\n",
       "    <tr>\n",
       "      <th>2</th>\n",
       "      <td>(0, 1, 2, 5)</td>\n",
       "      <td>[0.8004776119402985, 0.8537313432835821]</td>\n",
       "      <td>0.827104</td>\n",
       "      <td>(0, 1, 2, 5)</td>\n",
       "      <td>0.114566</td>\n",
       "      <td>0.0266269</td>\n",
       "      <td>0.0266269</td>\n",
       "    </tr>\n",
       "    <tr>\n",
       "      <th>3</th>\n",
       "      <td>(0, 1, 2, 6)</td>\n",
       "      <td>[0.7815522388059701, 0.8422089552238806]</td>\n",
       "      <td>0.811881</td>\n",
       "      <td>(0, 1, 2, 6)</td>\n",
       "      <td>0.130492</td>\n",
       "      <td>0.0303284</td>\n",
       "      <td>0.0303284</td>\n",
       "    </tr>\n",
       "    <tr>\n",
       "      <th>4</th>\n",
       "      <td>(0, 1, 2, 7)</td>\n",
       "      <td>[0.7723582089552239, 0.8425074626865672]</td>\n",
       "      <td>0.807433</td>\n",
       "      <td>(0, 1, 2, 7)</td>\n",
       "      <td>0.150914</td>\n",
       "      <td>0.0350746</td>\n",
       "      <td>0.0350746</td>\n",
       "    </tr>\n",
       "    <tr>\n",
       "      <th>...</th>\n",
       "      <td>...</td>\n",
       "      <td>...</td>\n",
       "      <td>...</td>\n",
       "      <td>...</td>\n",
       "      <td>...</td>\n",
       "      <td>...</td>\n",
       "      <td>...</td>\n",
       "    </tr>\n",
       "    <tr>\n",
       "      <th>158</th>\n",
       "      <td>(0, 1, 2, 4, 5, 6, 7)</td>\n",
       "      <td>[0.8097014925373134, 0.8601791044776118]</td>\n",
       "      <td>0.83494</td>\n",
       "      <td>(0, 1, 2, 4, 5, 6, 7)</td>\n",
       "      <td>0.108594</td>\n",
       "      <td>0.0252388</td>\n",
       "      <td>0.0252388</td>\n",
       "    </tr>\n",
       "    <tr>\n",
       "      <th>159</th>\n",
       "      <td>(0, 1, 3, 4, 5, 6, 7)</td>\n",
       "      <td>[0.8086865671641792, 0.8568656716417911]</td>\n",
       "      <td>0.832776</td>\n",
       "      <td>(0, 1, 3, 4, 5, 6, 7)</td>\n",
       "      <td>0.103649</td>\n",
       "      <td>0.0240896</td>\n",
       "      <td>0.0240896</td>\n",
       "    </tr>\n",
       "    <tr>\n",
       "      <th>160</th>\n",
       "      <td>(0, 2, 3, 4, 5, 6, 7)</td>\n",
       "      <td>[0.7545970149253731, 0.7626268656716417]</td>\n",
       "      <td>0.758612</td>\n",
       "      <td>(0, 2, 3, 4, 5, 6, 7)</td>\n",
       "      <td>0.0172748</td>\n",
       "      <td>0.00401493</td>\n",
       "      <td>0.00401493</td>\n",
       "    </tr>\n",
       "    <tr>\n",
       "      <th>161</th>\n",
       "      <td>(1, 2, 3, 4, 5, 6, 7)</td>\n",
       "      <td>[0.8045671641791045, 0.8520597014925373]</td>\n",
       "      <td>0.828313</td>\n",
       "      <td>(1, 2, 3, 4, 5, 6, 7)</td>\n",
       "      <td>0.102172</td>\n",
       "      <td>0.0237463</td>\n",
       "      <td>0.0237463</td>\n",
       "    </tr>\n",
       "    <tr>\n",
       "      <th>162</th>\n",
       "      <td>(0, 1, 2, 3, 4, 5, 6, 7)</td>\n",
       "      <td>[0.8093134328358208, 0.8601791044776119]</td>\n",
       "      <td>0.834746</td>\n",
       "      <td>(0, 1, 2, 3, 4, 5, 6, 7)</td>\n",
       "      <td>0.109429</td>\n",
       "      <td>0.0254328</td>\n",
       "      <td>0.0254328</td>\n",
       "    </tr>\n",
       "  </tbody>\n",
       "</table>\n",
       "<p>163 rows × 7 columns</p>\n",
       "</div>"
      ],
      "text/plain": [
       "                  feature_idx                                 cv_scores  \\\n",
       "0                (0, 1, 2, 3)  [0.7724477611940298, 0.8392835820895523]   \n",
       "1                (0, 1, 2, 4)  [0.7705671641791045, 0.8398805970149255]   \n",
       "2                (0, 1, 2, 5)  [0.8004776119402985, 0.8537313432835821]   \n",
       "3                (0, 1, 2, 6)  [0.7815522388059701, 0.8422089552238806]   \n",
       "4                (0, 1, 2, 7)  [0.7723582089552239, 0.8425074626865672]   \n",
       "..                        ...                                       ...   \n",
       "158     (0, 1, 2, 4, 5, 6, 7)  [0.8097014925373134, 0.8601791044776118]   \n",
       "159     (0, 1, 3, 4, 5, 6, 7)  [0.8086865671641792, 0.8568656716417911]   \n",
       "160     (0, 2, 3, 4, 5, 6, 7)  [0.7545970149253731, 0.7626268656716417]   \n",
       "161     (1, 2, 3, 4, 5, 6, 7)  [0.8045671641791045, 0.8520597014925373]   \n",
       "162  (0, 1, 2, 3, 4, 5, 6, 7)  [0.8093134328358208, 0.8601791044776119]   \n",
       "\n",
       "    avg_score             feature_names   ci_bound     std_dev     std_err  \n",
       "0    0.805866              (0, 1, 2, 3)   0.143786   0.0334179   0.0334179  \n",
       "1    0.805224              (0, 1, 2, 4)   0.149116   0.0346567   0.0346567  \n",
       "2    0.827104              (0, 1, 2, 5)   0.114566   0.0266269   0.0266269  \n",
       "3    0.811881              (0, 1, 2, 6)   0.130492   0.0303284   0.0303284  \n",
       "4    0.807433              (0, 1, 2, 7)   0.150914   0.0350746   0.0350746  \n",
       "..        ...                       ...        ...         ...         ...  \n",
       "158   0.83494     (0, 1, 2, 4, 5, 6, 7)   0.108594   0.0252388   0.0252388  \n",
       "159  0.832776     (0, 1, 3, 4, 5, 6, 7)   0.103649   0.0240896   0.0240896  \n",
       "160  0.758612     (0, 2, 3, 4, 5, 6, 7)  0.0172748  0.00401493  0.00401493  \n",
       "161  0.828313     (1, 2, 3, 4, 5, 6, 7)   0.102172   0.0237463   0.0237463  \n",
       "162  0.834746  (0, 1, 2, 3, 4, 5, 6, 7)   0.109429   0.0254328   0.0254328  \n",
       "\n",
       "[163 rows x 7 columns]"
      ]
     },
     "execution_count": 29,
     "metadata": {},
     "output_type": "execute_result"
    }
   ],
   "source": [
    "from mlxtend.feature_selection import ExhaustiveFeatureSelector\n",
    "# from sklearn.ensemble import RandomForestClassifier\n",
    "\n",
    "lr = LogisticRegression(solver='lbfgs', random_state=12, max_iter=500, n_jobs=-1)\n",
    "efs = ExhaustiveFeatureSelector(lr,\n",
    "                               min_features=4,\n",
    "                               max_features=8,\n",
    "                               scoring='roc_auc',\n",
    "                               cv=2)\n",
    "\n",
    "efs = efs.fit(X, y)\n",
    "selected_features = X[:, list(efs.best_idx_)]\n",
    "print('Selected features: {}'.format(list(efs.best_idx_)))\n",
    "pd.DataFrame.from_dict(efs.get_metric_dict()).T"
   ]
  },
  {
   "cell_type": "markdown",
   "metadata": {
    "slideshow": {
     "slide_type": "slide"
    }
   },
   "source": [
    "# 2.4 Recursive Feature Elimination"
   ]
  },
  {
   "cell_type": "markdown",
   "metadata": {
    "slideshow": {
     "slide_type": "-"
    }
   },
   "source": [
    "* The RFE recursively removes features and then builds a model on the remained features.\n",
    "* RFE checks the model accuracy to see which features are the best to predict the target label.\n",
    "* Learn more about RFE class in scikit-learn:\n",
    "https://scikit-learn.org/stable/modules/generated/sklearn.feature_selection.RFE.html"
   ]
  },
  {
   "cell_type": "code",
   "execution_count": 30,
   "metadata": {
    "slideshow": {
     "slide_type": "slide"
    }
   },
   "outputs": [
    {
     "name": "stdout",
     "output_type": "stream",
     "text": [
      "All features: 0.7825520833333334\n",
      "Num Features: 5\n",
      "Selected Features: [ True  True False False False  True  True  True]\n",
      "Feature Ranking: [1 1 2 3 4 1 1 1]\n",
      "With feature selection: 0.7799479166666666\n"
     ]
    }
   ],
   "source": [
    "import warnings\n",
    "warnings.filterwarnings('ignore')\n",
    "from sklearn.feature_selection import RFE\n",
    "\n",
    "lr = LogisticRegression()\n",
    "lr.fit(X, y)\n",
    "print('All features: {}'.format(lr.score(X, y)))\n",
    "\n",
    "rfe = RFE(lr, n_features_to_select=5, step=1)\n",
    "rfe.fit(X, y)\n",
    "print(\"Num Features: {}\".format(rfe.n_features_))\n",
    "print(\"Selected Features: {}\".format(rfe.support_))\n",
    "print(\"Feature Ranking: {}\".format(rfe.ranking_))\n",
    "\n",
    "lr.fit(X[:, rfe.support_], y)\n",
    "print('With feature selection: {}'.format(lr.score(X[:, rfe.support_], y)))\n",
    "# pd.DataFrame.from_dict(rfe.get_metric_dict()).T"
   ]
  },
  {
   "cell_type": "markdown",
   "metadata": {
    "slideshow": {
     "slide_type": "slide"
    }
   },
   "source": [
    "# 3. Embedded Methods"
   ]
  },
  {
   "cell_type": "markdown",
   "metadata": {
    "slideshow": {
     "slide_type": "-"
    }
   },
   "source": [
    "* These methods encompass the benefits of both the wrapper and filter methods, by including interactions of features.\n",
    "* Embedded methods are iterative.\n",
    "* They takes care of each iteration of the model training process and carefully extracts those features which contribute the most to the training for a particular iteration."
   ]
  },
  {
   "cell_type": "markdown",
   "metadata": {
    "slideshow": {
     "slide_type": "slide"
    }
   },
   "source": [
    "# 3.1 Random Forest Importance"
   ]
  },
  {
   "cell_type": "markdown",
   "metadata": {
    "slideshow": {
     "slide_type": "-"
    }
   },
   "source": [
    "* Random Forest (bagging) methods can be used to estimate the importance of features.\n",
    "* Also, we can use **ExtraTreesClassifier**. Learn more about **ExtraTreesClassifier** class in scikit-learn here:<br>\n",
    "https://scikit-learn.org/stable/modules/generated/sklearn.ensemble.ExtraTreesClassifier.html<br>\n",
    "\n",
    "\"*ExtraTreesClassifier class implements a meta estimator that fits a number of randomized decision trees (a.k.a. extra-trees) on various sub-samples of the dataset and uses averaging to improve the predictive accuracy and control over-fitting.*\""
   ]
  },
  {
   "cell_type": "code",
   "execution_count": 11,
   "metadata": {
    "slideshow": {
     "slide_type": "slide"
    }
   },
   "outputs": [
    {
     "data": {
      "image/png": "[encoded data removed]",
      "text/plain": [
       "<Figure size 432x288 with 1 Axes>"
      ]
     },
     "metadata": {
      "needs_background": "light"
     },
     "output_type": "display_data"
    }
   ],
   "source": [
    "from sklearn.ensemble import ExtraTreesClassifier\n",
    "\n",
    "etc = ExtraTreesClassifier()\n",
    "etc.fit(X, y)\n",
    "\n",
    "plt.barh(range(8), etc.feature_importances_)\n",
    "plt.yticks(range(8), df.columns)\n",
    "plt.tick_params(axis='x', labelsize=20)\n",
    "plt.tick_params(axis='y', labelsize=20)"
   ]
  },
  {
   "cell_type": "markdown",
   "metadata": {
    "slideshow": {
     "slide_type": "slide"
    }
   },
   "source": [
    "# Self Study\n",
    "    \n",
    "    \n",
    "* Please study the rest of the slides and ask your questions in the class, if you have any.\n",
    "* Most of the topics below have been already covered in the previous lectures.\n",
    "* However, thsi is just a review on them and introducing some additional related subjects."
   ]
  },
  {
   "cell_type": "markdown",
   "metadata": {
    "slideshow": {
     "slide_type": "slide"
    }
   },
   "source": [
    "# Automate Machine Learning Workfows"
   ]
  },
  {
   "cell_type": "markdown",
   "metadata": {
    "slideshow": {
     "slide_type": "-"
    }
   },
   "source": [
    "* Can you list standard steps in a machine learning project?"
   ]
  },
  {
   "cell_type": "markdown",
   "metadata": {
    "slideshow": {
     "slide_type": "fragment"
    }
   },
   "source": [
    "1. Statndard steps in a machine learning project can be automated.\n",
    "2. In scikit-learn *pipelines* can define and automate these steps."
   ]
  },
  {
   "cell_type": "markdown",
   "metadata": {
    "slideshow": {
     "slide_type": "slide"
    }
   },
   "source": [
    "In this section you will will learn:\n",
    "* how to use *pipelines*.\n",
    "* how to apply a data preparation and modeling pipeline.\n",
    "* how to apply a feature extraction and modeling pipeline.\n"
   ]
  },
  {
   "cell_type": "markdown",
   "metadata": {
    "slideshow": {
     "slide_type": "slide"
    }
   },
   "source": [
    "# 1. Automating Machine Learning Workfows"
   ]
  },
  {
   "cell_type": "markdown",
   "metadata": {
    "slideshow": {
     "slide_type": "-"
    }
   },
   "source": [
    "* The standard steps in applied machine learning help to overcome common problems.\n",
    "* scikit-learn provides a Pipeline utility to help automate machine learning workflows.\n",
    "* Pipelines work by allowing for a linear sequence of data transforms to be chained together.\n",
    "* Learn more about **Pipelines** in scikit-learn here:<br>\n",
    "http://scikit-learn.org/stable/modules/pipeline.html <br>\n",
    "\n",
    "The goal is to ensure that all of the steps in the pipeline are constrained to the data available\n",
    "for the evaluation."
   ]
  },
  {
   "cell_type": "markdown",
   "metadata": {
    "slideshow": {
     "slide_type": "slide"
    }
   },
   "source": [
    "# 2. Data Preparation and Modeling Pipeline"
   ]
  },
  {
   "cell_type": "markdown",
   "metadata": {
    "slideshow": {
     "slide_type": "-"
    }
   },
   "source": [
    "* A common mistake in applied machine learning is leaking data from your training dataset to your test dataset.\n",
    "* To avoid this, you need a strong separation of training and test sets.\n",
    "* Most of the data leakage happens in data preparation step. \n",
    "* For example, normalizing of standardizing your entire data would not be a correct preparaion (preprocessing) method. Because the training data would have been influenced by the data in the test set!"
   ]
  },
  {
   "cell_type": "markdown",
   "metadata": {
    "slideshow": {
     "slide_type": "fragment"
    }
   },
   "source": [
    "Pipelines help preventing data leakage in the evaluation process by ensuring that data preparation like standardization is constrained to each fold of your cross validation procedure."
   ]
  },
  {
   "cell_type": "markdown",
   "metadata": {
    "slideshow": {
     "slide_type": "slide"
    }
   },
   "source": [
    "# Implementation of Data Preparation Pipeline "
   ]
  },
  {
   "cell_type": "markdown",
   "metadata": {
    "slideshow": {
     "slide_type": "-"
    }
   },
   "source": [
    "The below pipeline consists of two steps:\n",
    "    1. Standardize the data.\n",
    "    2. Learn a Logistic Regression model."
   ]
  },
  {
   "cell_type": "code",
   "execution_count": 12,
   "metadata": {
    "slideshow": {
     "slide_type": "fragment"
    }
   },
   "outputs": [],
   "source": [
    "from pandas import read_csv\n",
    "from sklearn.model_selection import KFold\n",
    "from sklearn.model_selection import cross_val_score\n",
    "from sklearn.preprocessing import StandardScaler\n",
    "from sklearn.pipeline import Pipeline\n",
    "from sklearn.linear_model import LogisticRegression"
   ]
  },
  {
   "cell_type": "code",
   "execution_count": 13,
   "metadata": {
    "slideshow": {
     "slide_type": "slide"
    }
   },
   "outputs": [],
   "source": [
    "# # create pipeline\n",
    "# estimators = []\n",
    "# estimators.append(('standardize', StandardScaler()))\n",
    "# estimators.append(('lr', LogisticRegression()))\n",
    "# pipe = Pipeline(estimators)"
   ]
  },
  {
   "cell_type": "code",
   "execution_count": 14,
   "metadata": {
    "slideshow": {
     "slide_type": "fragment"
    }
   },
   "outputs": [],
   "source": [
    "# # evaluate pipeline\n",
    "# kfold = KFold(n_splits=10, random_state=7)\n",
    "# results = cross_val_score(pipe, X, Y, cv=kfold)\n",
    "# print(results.mean())"
   ]
  },
  {
   "cell_type": "markdown",
   "metadata": {
    "slideshow": {
     "slide_type": "slide"
    }
   },
   "source": [
    "# Improve Performance with Algorithm Tuning"
   ]
  },
  {
   "cell_type": "markdown",
   "metadata": {
    "slideshow": {
     "slide_type": "slide"
    }
   },
   "source": [
    "* Machine learning models are parameterized so that their behavior can be tuned for a given problem.\n",
    "* Models can have many parameters and finding the best combination of parameters can be treated as a search problem."
   ]
  },
  {
   "cell_type": "markdown",
   "metadata": {
    "slideshow": {
     "slide_type": "fragment"
    }
   },
   "source": [
    "In this lesson, you will see:\n",
    "    1. The importance of algorithm parameter tuning to improve algorithm performance.\n",
    "    2. How to use a grid search algorithm tuning strategy.\n",
    "    3. How to use a random search algorithm tuning strategy."
   ]
  },
  {
   "cell_type": "markdown",
   "metadata": {
    "slideshow": {
     "slide_type": "slide"
    }
   },
   "source": [
    "# Machine Learning Algorithm Parameters"
   ]
  },
  {
   "cell_type": "markdown",
   "metadata": {
    "slideshow": {
     "slide_type": "-"
    }
   },
   "source": [
    "* Algorithm tuning is a final step in the process of applied machine learning before finalizing your model.\n",
    "* It is sometimes called hyperparameter optimization. \n",
    "* Since this is an optimization problem, we need to use search based methods/strategies to find robust and good (set of) parameters."
   ]
  },
  {
   "cell_type": "markdown",
   "metadata": {
    "slideshow": {
     "slide_type": "fragment"
    }
   },
   "source": [
    "scikit-learn provides two simple methods for algorithm parameter tuning:\n",
    "    1. Grid Search Parameter Tuning.\n",
    "    2. Random Search Parameter Tuning."
   ]
  },
  {
   "cell_type": "markdown",
   "metadata": {
    "slideshow": {
     "slide_type": "slide"
    }
   },
   "source": [
    "# 1. Random Search Parameter Tuning"
   ]
  },
  {
   "cell_type": "markdown",
   "metadata": {
    "slideshow": {
     "slide_type": "-"
    }
   },
   "source": [
    "* Random search is an approach to parameter tuning that will sample algorithm parameters from a random distribution (i.e. uniform) for a fixed number of iterations.\n",
    "* A model is constructed and evaluated for each combination of parameters chosen.\n",
    "* You can perform a random search for algorithm parameters using the **RandomizedSearchCV** class:\n",
    "\n",
    "https://scikit-learn.org/stable/modules/generated/sklearn.model_selection.RandomizedSearchCV.html"
   ]
  },
  {
   "cell_type": "markdown",
   "metadata": {
    "slideshow": {
     "slide_type": "slide"
    }
   },
   "source": [
    "# Comparison Between GridSearchCV & RandomizedSearchCV"
   ]
  },
  {
   "cell_type": "markdown",
   "metadata": {
    "slideshow": {
     "slide_type": "-"
    }
   },
   "source": [
    "* The example below evaluates diffeerent random alpha values between 0 and 1 for the Ridge Regression algorithm on the standard diabetes dataset.\n",
    "* A total of 100 iterations are performed with uniformly random alpha values selected in the range between 0 and 1 (the range that alpha values can take)."
   ]
  },
  {
   "cell_type": "code",
   "execution_count": 15,
   "metadata": {
    "slideshow": {
     "slide_type": "fragment"
    }
   },
   "outputs": [],
   "source": [
    "import numpy as np\n",
    "from pandas import read_csv\n",
    "from scipy.stats import uniform\n",
    "from sklearn.tree import DecisionTreeClassifier\n",
    "from sklearn.model_selection import RandomizedSearchCV, GridSearchCV\n",
    "import time"
   ]
  },
  {
   "cell_type": "code",
   "execution_count": 16,
   "metadata": {
    "slideshow": {
     "slide_type": "slide"
    }
   },
   "outputs": [
    {
     "name": "stdout",
     "output_type": "stream",
     "text": [
      "GridSearchCV time: 47.765625\n",
      "GridSearchCV score: 0.7566250742721332\n",
      "GridSearchCV params: DecisionTreeClassifier(max_depth=19, max_leaf_nodes=44, min_samples_split=3)\n",
      "\n",
      "RandomizedSearchCV time: 1.453125\n",
      "RandomizedSearchCV score: 0.7526865291571173\n",
      "RandomizedSearchCV params: DecisionTreeClassifier(max_depth=5, max_leaf_nodes=20, min_samples_split=4)\n"
     ]
    }
   ],
   "source": [
    "param_grid = {'max_leaf_nodes': list(range(2, 100)), 'min_samples_split': [2, 3, 4], 'max_depth': range(1,20,2)}\n",
    "dt = DecisionTreeClassifier()\n",
    "\n",
    "tic = time.process_time()\n",
    "gsearch = GridSearchCV(estimator=dt, param_grid=param_grid)\n",
    "gsearch.fit(X, y)\n",
    "toc = time.process_time()\n",
    "\n",
    "print('GridSearchCV time: {}'.format(toc - tic))\n",
    "print('GridSearchCV score: {}'.format(gsearch.best_score_))\n",
    "print('GridSearchCV params: {}'.format(gsearch.best_estimator_))\n",
    "print('')\n",
    "\n",
    "tic = time.process_time()\n",
    "rsearch = RandomizedSearchCV(estimator=dt, param_distributions=param_grid, n_iter=100, random_state=42)\n",
    "rsearch.fit(X, y)\n",
    "toc = time.process_time()\n",
    "\n",
    "print('RandomizedSearchCV time: {}'.format(toc - tic))\n",
    "print('RandomizedSearchCV score: {}'.format(rsearch.best_score_))\n",
    "print('RandomizedSearchCV params: {}'.format(rsearch.best_estimator_))"
   ]
  },
  {
   "cell_type": "markdown",
   "metadata": {
    "slideshow": {
     "slide_type": "slide"
    }
   },
   "source": [
    "<font size=\"25\"><center>Thank you!"
   ]
  }
 ],
 "metadata": {
  "celltoolbar": "Slideshow",
  "kernelspec": {
   "display_name": "Python 3 (ipykernel)",
   "language": "python",
   "name": "python3"
  },
  "language_info": {
   "codemirror_mode": {
    "name": "ipython",
    "version": 3
   },
   "file_extension": ".py",
   "mimetype": "text/x-python",
   "name": "python",
   "nbconvert_exporter": "python",
   "pygments_lexer": "ipython3",
   "version": "3.9.7"
  }
 },
 "nbformat": 4,
 "nbformat_minor": 4
}
